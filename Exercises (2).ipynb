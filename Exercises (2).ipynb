{
  "cells": [
    {
      "cell_type": "markdown",
      "metadata": {
        "pycharm": {
          "name": "#%% md\n"
        },
        "id": "LDRDyFeG0GVN"
      },
      "source": [
        "# Ex2 - Filtering and Sorting Data"
      ]
    },
    {
      "cell_type": "markdown",
      "metadata": {
        "pycharm": {
          "name": "#%% md\n"
        },
        "id": "KL_H_QvQ0GVP"
      },
      "source": [
        "This time we are going to pull data directly from the internet.\n",
        "\n",
        "### Step 1. Import the necessary libraries"
      ]
    },
    {
      "cell_type": "code",
      "execution_count": null,
      "metadata": {
        "pycharm": {
          "name": "#%%\n"
        },
        "id": "yLXEST0N0GVQ"
      },
      "outputs": [],
      "source": [
        "import pandas as pd"
      ]
    },
    {
      "cell_type": "markdown",
      "metadata": {
        "pycharm": {
          "name": "#%% md\n"
        },
        "id": "2XIbgQzl0GVQ"
      },
      "source": [
        "### Step 2. Import the dataset from this [address](https://raw.githubusercontent.com/thieu1995/csv-files/main/data/pandas/Euro_2012_stats_TEAM.csv)."
      ]
    },
    {
      "cell_type": "code",
      "source": [
        "url = \"https://raw.githubusercontent.com/thieu1995/csv-files/main/data/pandas/Euro_2012_stats_TEAM.csv\""
      ],
      "metadata": {
        "id": "Sqy2AMPr06FG"
      },
      "execution_count": null,
      "outputs": []
    },
    {
      "cell_type": "markdown",
      "metadata": {
        "pycharm": {
          "name": "#%% md\n"
        },
        "id": "6UMZ-s9V0GVR"
      },
      "source": [
        "### Step 3. Assign it to a variable called euro12."
      ]
    },
    {
      "cell_type": "markdown",
      "source": [],
      "metadata": {
        "id": "yWE8p2q-07HM"
      }
    },
    {
      "cell_type": "code",
      "execution_count": null,
      "metadata": {
        "pycharm": {
          "name": "#%%\n"
        },
        "id": "ahiQqHO40GVR"
      },
      "outputs": [],
      "source": [
        "euro12 = pd.read_csv(url)"
      ]
    },
    {
      "cell_type": "markdown",
      "source": [],
      "metadata": {
        "id": "W0bOIirz08Wu"
      }
    },
    {
      "cell_type": "markdown",
      "metadata": {
        "pycharm": {
          "name": "#%% md\n"
        },
        "id": "bRxwK_oi0GVS"
      },
      "source": [
        "### Step 4. Select only the Goal column."
      ]
    },
    {
      "cell_type": "code",
      "execution_count": null,
      "metadata": {
        "pycharm": {
          "name": "#%%\n"
        },
        "colab": {
          "base_uri": "https://localhost:8080/"
        },
        "id": "QPnLARyW0GVS",
        "outputId": "33f641d7-cf59-41ef-d34e-91de59dc2580"
      },
      "outputs": [
        {
          "output_type": "stream",
          "name": "stdout",
          "text": [
            "Goals column:\n",
            "0      4\n",
            "1      4\n",
            "2      4\n",
            "3      5\n",
            "4      3\n",
            "5     10\n",
            "6      5\n",
            "7      6\n",
            "8      2\n",
            "9      2\n",
            "10     6\n",
            "11     1\n",
            "12     5\n",
            "13    12\n",
            "14     5\n",
            "15     2\n",
            "Name: Goals, dtype: int64\n"
          ]
        }
      ],
      "source": [
        "print(\"Goals column:\")\n",
        "print(euro12['Goals'])"
      ]
    },
    {
      "cell_type": "markdown",
      "metadata": {
        "pycharm": {
          "name": "#%% md\n"
        },
        "id": "vnL-eVoC0GVS"
      },
      "source": [
        "### Step 5. How many team participated in the Euro2012?"
      ]
    },
    {
      "cell_type": "code",
      "execution_count": null,
      "metadata": {
        "pycharm": {
          "name": "#%%\n"
        },
        "colab": {
          "base_uri": "https://localhost:8080/"
        },
        "id": "WN5_eP4c0GVS",
        "outputId": "cf43b5d7-cde8-4614-9802-ab15c47875da"
      },
      "outputs": [
        {
          "output_type": "stream",
          "name": "stdout",
          "text": [
            "\n",
            "Number of teams:\n",
            "16\n"
          ]
        }
      ],
      "source": [
        "print(\"\\nNumber of teams:\")\n",
        "print(euro12.shape[0])\n"
      ]
    },
    {
      "cell_type": "markdown",
      "metadata": {
        "pycharm": {
          "name": "#%% md\n"
        },
        "id": "xG3Qkq9U0GVS"
      },
      "source": [
        "### Step 6. What is the number of columns in the dataset?"
      ]
    },
    {
      "cell_type": "code",
      "execution_count": null,
      "metadata": {
        "pycharm": {
          "name": "#%%\n"
        },
        "colab": {
          "base_uri": "https://localhost:8080/"
        },
        "id": "X1nyAknA0GVT",
        "outputId": "10bd4700-9d46-4911-91a0-e89a707bec0b"
      },
      "outputs": [
        {
          "output_type": "stream",
          "name": "stdout",
          "text": [
            "\n",
            "Number of columns:\n",
            "35\n"
          ]
        }
      ],
      "source": [
        "print(\"\\nNumber of columns:\")\n",
        "print(euro12.shape[1])\n"
      ]
    },
    {
      "cell_type": "markdown",
      "metadata": {
        "pycharm": {
          "name": "#%% md\n"
        },
        "id": "a5Q4TO-30GVT"
      },
      "source": [
        "### Step 7. View only the columns Team, Yellow Cards and Red Cards and assign them to a dataframe called discipline"
      ]
    },
    {
      "cell_type": "code",
      "execution_count": null,
      "metadata": {
        "pycharm": {
          "name": "#%%\n"
        },
        "colab": {
          "base_uri": "https://localhost:8080/"
        },
        "id": "WPua9x040GVT",
        "outputId": "c33297d8-c35c-45b8-f071-f54190020c12"
      },
      "outputs": [
        {
          "output_type": "stream",
          "name": "stdout",
          "text": [
            "\n",
            "Discipline data:\n",
            "                   Team  Yellow Cards  Red Cards\n",
            "0               Croatia             9          0\n",
            "1        Czech Republic             7          0\n",
            "2               Denmark             4          0\n",
            "3               England             5          0\n",
            "4                France             6          0\n",
            "5               Germany             4          0\n",
            "6                Greece             9          1\n",
            "7                 Italy            16          0\n",
            "8           Netherlands             5          0\n",
            "9                Poland             7          1\n",
            "10             Portugal            12          0\n",
            "11  Republic of Ireland             6          1\n",
            "12               Russia             6          0\n",
            "13                Spain            11          0\n",
            "14               Sweden             7          0\n",
            "15              Ukraine             5          0\n"
          ]
        }
      ],
      "source": [
        "discipline = euro12[['Team', 'Yellow Cards', 'Red Cards']]\n",
        "print(\"\\nDiscipline data:\")\n",
        "print(discipline)"
      ]
    },
    {
      "cell_type": "markdown",
      "metadata": {
        "pycharm": {
          "name": "#%% md\n"
        },
        "id": "DG7LdArG0GVT"
      },
      "source": [
        "### Step 8. Sort the teams by Red Cards, then to Yellow Cards"
      ]
    },
    {
      "cell_type": "code",
      "execution_count": null,
      "metadata": {
        "scrolled": true,
        "pycharm": {
          "name": "#%%\n"
        },
        "colab": {
          "base_uri": "https://localhost:8080/"
        },
        "id": "alZk2d480GVT",
        "outputId": "f3a76933-e712-4818-8e98-37f0906a7119"
      },
      "outputs": [
        {
          "output_type": "stream",
          "name": "stdout",
          "text": [
            "\n",
            "Sorted by Red then Yellow Cards:\n",
            "                   Team  Yellow Cards  Red Cards\n",
            "6                Greece             9          1\n",
            "9                Poland             7          1\n",
            "11  Republic of Ireland             6          1\n",
            "7                 Italy            16          0\n",
            "10             Portugal            12          0\n",
            "13                Spain            11          0\n",
            "0               Croatia             9          0\n",
            "1        Czech Republic             7          0\n",
            "14               Sweden             7          0\n",
            "4                France             6          0\n",
            "12               Russia             6          0\n",
            "3               England             5          0\n",
            "8           Netherlands             5          0\n",
            "15              Ukraine             5          0\n",
            "2               Denmark             4          0\n",
            "5               Germany             4          0\n"
          ]
        }
      ],
      "source": [
        "sorted_discipline = discipline.sort_values(by=['Red Cards', 'Yellow Cards'], ascending=False)\n",
        "print(\"\\nSorted by Red then Yellow Cards:\")\n",
        "print(sorted_discipline)\n"
      ]
    },
    {
      "cell_type": "markdown",
      "metadata": {
        "pycharm": {
          "name": "#%% md\n"
        },
        "id": "5s06qUsJ0GVT"
      },
      "source": [
        "### Step 9. Calculate the mean Yellow Cards given per Team"
      ]
    },
    {
      "cell_type": "code",
      "execution_count": null,
      "metadata": {
        "pycharm": {
          "name": "#%%\n"
        },
        "colab": {
          "base_uri": "https://localhost:8080/"
        },
        "id": "RDx0zcv30GVU",
        "outputId": "e9fb7e38-ba9d-4d8f-b119-fe8dea0086b8"
      },
      "outputs": [
        {
          "output_type": "stream",
          "name": "stdout",
          "text": [
            "\n",
            "Mean Yellow Cards per team: 7.4375\n"
          ]
        }
      ],
      "source": [
        "mean_yellow = euro12['Yellow Cards'].mean()\n",
        "print(f\"\\nMean Yellow Cards per team: {mean_yellow}\")"
      ]
    },
    {
      "cell_type": "markdown",
      "metadata": {
        "pycharm": {
          "name": "#%% md\n"
        },
        "id": "yv2WR2bV0GVU"
      },
      "source": [
        "### Step 10. Filter teams that scored more than 6 goals"
      ]
    },
    {
      "cell_type": "code",
      "execution_count": null,
      "metadata": {
        "pycharm": {
          "name": "#%%\n"
        },
        "colab": {
          "base_uri": "https://localhost:8080/"
        },
        "id": "BNdTjszq0GVU",
        "outputId": "f6fc0657-2fed-4c9e-c0a5-4e06d4b83aaf"
      },
      "outputs": [
        {
          "output_type": "stream",
          "name": "stdout",
          "text": [
            "\n",
            "Teams with more than 6 goals:\n",
            "       Team  Goals\n",
            "5   Germany     10\n",
            "13    Spain     12\n"
          ]
        }
      ],
      "source": [
        "more_than_6_goals = euro12[euro12['Goals'] > 6]\n",
        "print(\"\\nTeams with more than 6 goals:\")\n",
        "print(more_than_6_goals[['Team', 'Goals']])"
      ]
    },
    {
      "cell_type": "markdown",
      "metadata": {
        "pycharm": {
          "name": "#%% md\n"
        },
        "id": "SNaF2ght0GVU"
      },
      "source": [
        "### Step 11. Select the teams that start with G"
      ]
    },
    {
      "cell_type": "code",
      "execution_count": null,
      "metadata": {
        "pycharm": {
          "name": "#%%\n"
        },
        "colab": {
          "base_uri": "https://localhost:8080/"
        },
        "id": "qHdVal7G0GVU",
        "outputId": "4400d41d-03fc-4e96-9c51-f287dc9e450e"
      },
      "outputs": [
        {
          "output_type": "stream",
          "name": "stdout",
          "text": [
            "\n",
            "Teams starting with 'G':\n",
            "5    Germany\n",
            "6     Greece\n",
            "Name: Team, dtype: object\n"
          ]
        }
      ],
      "source": [
        "teams_starting_with_G = euro12[euro12['Team'].str.startswith('G')]\n",
        "print(\"\\nTeams starting with 'G':\")\n",
        "print(teams_starting_with_G['Team'])\n"
      ]
    },
    {
      "cell_type": "markdown",
      "metadata": {
        "pycharm": {
          "name": "#%% md\n"
        },
        "id": "ZQBFe7H80GVU"
      },
      "source": [
        "### Step 12. Select the first 7 columns"
      ]
    },
    {
      "cell_type": "code",
      "execution_count": null,
      "metadata": {
        "pycharm": {
          "name": "#%%\n"
        },
        "colab": {
          "base_uri": "https://localhost:8080/"
        },
        "id": "9HjS-OPi0GVU",
        "outputId": "de970866-db85-4cb5-dfbb-df6af17435b0"
      },
      "outputs": [
        {
          "output_type": "stream",
          "name": "stdout",
          "text": [
            "\n",
            "First 7 columns:\n",
            "             Team  Goals  Shots on target  Shots off target Shooting Accuracy  \\\n",
            "0         Croatia      4               13                12             51.9%   \n",
            "1  Czech Republic      4               13                18             41.9%   \n",
            "2         Denmark      4               10                10             50.0%   \n",
            "3         England      5               11                18             50.0%   \n",
            "4          France      3               22                24             37.9%   \n",
            "\n",
            "  % Goals-to-shots  Total shots (inc. Blocked)  \n",
            "0            16.0%                          32  \n",
            "1            12.9%                          39  \n",
            "2            20.0%                          27  \n",
            "3            17.2%                          40  \n",
            "4             6.5%                          65  \n"
          ]
        }
      ],
      "source": [
        "first_7_columns = euro12.iloc[:, :7]\n",
        "print(\"\\nFirst 7 columns:\")\n",
        "print(first_7_columns.head())"
      ]
    },
    {
      "cell_type": "markdown",
      "metadata": {
        "pycharm": {
          "name": "#%% md\n"
        },
        "id": "ybqQLJNl0GVV"
      },
      "source": [
        "### Step 13. Select all columns except the last 3."
      ]
    },
    {
      "cell_type": "code",
      "execution_count": null,
      "metadata": {
        "pycharm": {
          "name": "#%%\n"
        },
        "colab": {
          "base_uri": "https://localhost:8080/"
        },
        "id": "eHeNwDXh0GVV",
        "outputId": "742a31a0-8835-4bce-ab53-7283b211a677"
      },
      "outputs": [
        {
          "output_type": "stream",
          "name": "stdout",
          "text": [
            "\n",
            "All columns except last 3:\n",
            "             Team  Goals  Shots on target  Shots off target Shooting Accuracy  \\\n",
            "0         Croatia      4               13                12             51.9%   \n",
            "1  Czech Republic      4               13                18             41.9%   \n",
            "2         Denmark      4               10                10             50.0%   \n",
            "3         England      5               11                18             50.0%   \n",
            "4          France      3               22                24             37.9%   \n",
            "\n",
            "  % Goals-to-shots  Total shots (inc. Blocked)  Hit Woodwork  Penalty goals  \\\n",
            "0            16.0%                          32             0              0   \n",
            "1            12.9%                          39             0              0   \n",
            "2            20.0%                          27             1              0   \n",
            "3            17.2%                          40             0              0   \n",
            "4             6.5%                          65             1              0   \n",
            "\n",
            "   Penalties not scored  ...  Clean Sheets  Blocks  Goals conceded Saves made  \\\n",
            "0                     0  ...             0      10               3         13   \n",
            "1                     0  ...             1      10               6          9   \n",
            "2                     0  ...             1      10               5         10   \n",
            "3                     0  ...             2      29               3         22   \n",
            "4                     0  ...             1       7               5          6   \n",
            "\n",
            "   Saves-to-shots ratio  Fouls Won  Fouls Conceded  Offsides  Yellow Cards  \\\n",
            "0                 81.3%         41              62         2             9   \n",
            "1                 60.1%         53              73         8             7   \n",
            "2                 66.7%         25              38         8             4   \n",
            "3                 88.1%         43              45         6             5   \n",
            "4                 54.6%         36              51         5             6   \n",
            "\n",
            "   Red Cards  \n",
            "0          0  \n",
            "1          0  \n",
            "2          0  \n",
            "3          0  \n",
            "4          0  \n",
            "\n",
            "[5 rows x 32 columns]\n"
          ]
        }
      ],
      "source": [
        "all_but_last_3 = euro12.iloc[:, :-3]\n",
        "print(\"\\nAll columns except last 3:\")\n",
        "print(all_but_last_3.head())"
      ]
    },
    {
      "cell_type": "markdown",
      "metadata": {
        "pycharm": {
          "name": "#%% md\n"
        },
        "id": "VOoDun1a0GVV"
      },
      "source": [
        "### Step 14. Present only the Shooting Accuracy from England, Italy and Russia"
      ]
    },
    {
      "cell_type": "code",
      "execution_count": null,
      "metadata": {
        "pycharm": {
          "name": "#%%\n"
        },
        "colab": {
          "base_uri": "https://localhost:8080/"
        },
        "id": "OZEv4WMl0GVV",
        "outputId": "dbb8db38-be49-4599-b76b-bc5123813c31"
      },
      "outputs": [
        {
          "output_type": "stream",
          "name": "stdout",
          "text": [
            "\n",
            "Shooting Accuracy for England, Italy and Russia:\n",
            "       Team Shooting Accuracy\n",
            "3   England             50.0%\n",
            "7     Italy             43.0%\n",
            "12   Russia             22.5%\n"
          ]
        }
      ],
      "source": [
        "shooting_accuracy = euro12[euro12['Team'].isin(['England', 'Italy', 'Russia'])][['Team', 'Shooting Accuracy']]\n",
        "print(\"\\nShooting Accuracy for England, Italy and Russia:\")\n",
        "print(shooting_accuracy)"
      ]
    },
    {
      "cell_type": "code",
      "source": [],
      "metadata": {
        "id": "UD5iazE41YGQ"
      },
      "execution_count": null,
      "outputs": []
    }
  ],
  "metadata": {
    "anaconda-cloud": {},
    "kernelspec": {
      "display_name": "Python 3",
      "name": "python3"
    },
    "language_info": {
      "name": "python"
    },
    "colab": {
      "provenance": []
    }
  },
  "nbformat": 4,
  "nbformat_minor": 0
}