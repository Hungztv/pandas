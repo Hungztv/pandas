{
  "cells": [
    {
      "cell_type": "markdown",
      "metadata": {
        "pycharm": {
          "name": "#%% md\n"
        },
        "id": "l11CArgcxMDT"
      },
      "source": [
        "# Pokemon"
      ]
    },
    {
      "cell_type": "markdown",
      "metadata": {
        "pycharm": {
          "name": "#%% md\n"
        },
        "id": "Q3pFGGt8xMDW"
      },
      "source": [
        "### Introduction:\n",
        "\n",
        "This time you will create the data.\n",
        "\n",
        "\n",
        "\n",
        "### Step 1. Import the necessary libraries"
      ]
    },
    {
      "cell_type": "code",
      "execution_count": null,
      "metadata": {
        "pycharm": {
          "name": "#%%\n"
        },
        "id": "aRjiLSJDxMDY"
      },
      "outputs": [],
      "source": [
        "import pandas as pd"
      ]
    },
    {
      "cell_type": "markdown",
      "metadata": {
        "pycharm": {
          "name": "#%% md\n"
        },
        "id": "UPVkkemkxMDZ"
      },
      "source": [
        "### Step 2. Create a data dictionary that looks like the DataFrame below"
      ]
    },
    {
      "cell_type": "code",
      "execution_count": null,
      "metadata": {
        "collapsed": true,
        "pycharm": {
          "name": "#%%\n"
        },
        "id": "hDL7Exd3xMDa"
      },
      "outputs": [],
      "source": [
        "data = {\n",
        "    'Name': ['Bulbasaur', 'Charmander', 'Squirtle', 'Pikachu', 'Jigglypuff'],\n",
        "    'Type': ['Grass/Poison', 'Fire', 'Water', 'Electric', 'Normal/Fairy'],\n",
        "    'HP': [45, 39, 44, 35, 115],\n",
        "    'Attack': [49, 52, 48, 55, 45],\n",
        "    'Defense': [49, 43, 65, 40, 20]\n",
        "}"
      ]
    },
    {
      "cell_type": "markdown",
      "metadata": {
        "pycharm": {
          "name": "#%% md\n"
        },
        "id": "uNcB2vCExMDa"
      },
      "source": [
        "### Step 3. Assign it to a variable called pokemon"
      ]
    },
    {
      "cell_type": "code",
      "execution_count": null,
      "metadata": {
        "pycharm": {
          "name": "#%%\n"
        },
        "id": "ZxdybnHNxMDb"
      },
      "outputs": [],
      "source": [
        "pokemon = pd.DataFrame(data)"
      ]
    },
    {
      "cell_type": "markdown",
      "metadata": {
        "pycharm": {
          "name": "#%% md\n"
        },
        "id": "mzr6NFVTxMDc"
      },
      "source": [
        "### Step 4. Ops...it seems the DataFrame columns are in alphabetical order. Place  the order of the columns as name, type, hp, evolution, pokedex"
      ]
    },
    {
      "cell_type": "code",
      "execution_count": null,
      "metadata": {
        "pycharm": {
          "name": "#%%\n"
        },
        "id": "B-scIr48xMDd"
      },
      "outputs": [],
      "source": [
        "pokemon['evolution'] = ['Ivysaur', 'Charmeleon', 'Wartortle', 'Raichu', 'Wigglytuff']\n",
        "pokemon['pokedex'] = [1, 4, 7, 25, 39]\n",
        "\n",
        "# Reordering columns\n",
        "pokemon = pokemon[['Name', 'Type', 'HP', 'evolution', 'pokedex']]"
      ]
    },
    {
      "cell_type": "markdown",
      "metadata": {
        "pycharm": {
          "name": "#%% md\n"
        },
        "id": "hhhLqSG_xMDe"
      },
      "source": [
        "### Step 5. Add another column called place, and insert what you have in mind."
      ]
    },
    {
      "cell_type": "code",
      "execution_count": null,
      "metadata": {
        "pycharm": {
          "name": "#%%\n"
        },
        "id": "9sM0gs7YxMDf"
      },
      "outputs": [],
      "source": [
        "pokemon['place'] = ['Forest', 'Mountain', 'Lake', 'City', 'Meadow']"
      ]
    },
    {
      "cell_type": "markdown",
      "metadata": {
        "pycharm": {
          "name": "#%% md\n"
        },
        "id": "wZdtFSo-xMDg"
      },
      "source": [
        "### Step 6. Present the type of each column"
      ]
    },
    {
      "cell_type": "code",
      "execution_count": null,
      "metadata": {
        "pycharm": {
          "name": "#%%\n"
        },
        "colab": {
          "base_uri": "https://localhost:8080/"
        },
        "id": "GOrLmOSVxMDg",
        "outputId": "ee4a316f-0ded-43ec-bebb-ae74977bf70f"
      },
      "outputs": [
        {
          "output_type": "stream",
          "name": "stdout",
          "text": [
            "Column data types:\n",
            "Name         object\n",
            "Type         object\n",
            "HP            int64\n",
            "evolution    object\n",
            "pokedex       int64\n",
            "place        object\n",
            "dtype: object\n"
          ]
        }
      ],
      "source": [
        "print(\"Column data types:\")\n",
        "print(pokemon.dtypes)"
      ]
    },
    {
      "cell_type": "markdown",
      "metadata": {
        "pycharm": {
          "name": "#%% md\n"
        },
        "id": "7AxMiMGzxMDg"
      },
      "source": [
        "### BONUS: Create your own question and answer it."
      ]
    },
    {
      "cell_type": "code",
      "execution_count": null,
      "metadata": {
        "collapsed": true,
        "pycharm": {
          "name": "#%%\n"
        },
        "colab": {
          "base_uri": "https://localhost:8080/"
        },
        "id": "0XTF3gbyxMDh",
        "outputId": "7d96a10a-38bd-4292-e37a-bb3067ca4794"
      },
      "outputs": [
        {
          "output_type": "stream",
          "name": "stdout",
          "text": [
            "\n",
            "BONUS Question: What is the average HP of all Pokémon?\n",
            "Answer: The average HP is 55.6\n"
          ]
        }
      ],
      "source": [
        "average_hp = pokemon['HP'].mean()\n",
        "print(f\"\\nBONUS Question: What is the average HP of all Pokémon?\")\n",
        "print(f\"Answer: The average HP is {average_hp}\")"
      ]
    },
    {
      "cell_type": "code",
      "source": [],
      "metadata": {
        "id": "trcIievQxtEc"
      },
      "execution_count": null,
      "outputs": []
    }
  ],
  "metadata": {
    "kernelspec": {
      "display_name": "Python 2",
      "language": "python",
      "name": "python2"
    },
    "language_info": {
      "codemirror_mode": {
        "name": "ipython",
        "version": 2
      },
      "file_extension": ".py",
      "mimetype": "text/x-python",
      "name": "python",
      "nbconvert_exporter": "python",
      "pygments_lexer": "ipython2",
      "version": "2.7.11"
    },
    "colab": {
      "provenance": []
    }
  },
  "nbformat": 4,
  "nbformat_minor": 0
}