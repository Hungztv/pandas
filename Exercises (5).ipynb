{
  "cells": [
    {
      "cell_type": "markdown",
      "metadata": {
        "pycharm": {
          "name": "#%% md\n"
        },
        "id": "Z1w9kwh98O6M"
      },
      "source": [
        "# United States - Crime Rates - 1960 - 2014"
      ]
    },
    {
      "cell_type": "markdown",
      "metadata": {
        "pycharm": {
          "name": "#%% md\n"
        },
        "id": "bpCXuuuk8O6P"
      },
      "source": [
        "### Introduction:\n",
        "\n",
        "This time you will create a data\n",
        "\n",
        "Special thanks to: https://github.com/justmarkham for sharing the dataset and materials.\n",
        "\n",
        "### Step 1. Import the necessary libraries"
      ]
    },
    {
      "cell_type": "code",
      "execution_count": null,
      "metadata": {
        "pycharm": {
          "name": "#%%\n"
        },
        "id": "mi_cSn198O6Q"
      },
      "outputs": [],
      "source": [
        "import pandas as pd\n"
      ]
    },
    {
      "cell_type": "markdown",
      "metadata": {
        "pycharm": {
          "name": "#%% md\n"
        },
        "id": "TuxQWP1g8O6Q"
      },
      "source": [
        "### Step 2. Import the dataset from this [address](https://raw.githubusercontent.com/thieu1995/csv-files/main/data/pandas/US_Crime_Rates_1960_2014.csv)."
      ]
    },
    {
      "cell_type": "code",
      "source": [
        "url = 'https://raw.githubusercontent.com/thieu1995/csv-files/main/data/pandas/US_Crime_Rates_1960_2014.csv'"
      ],
      "metadata": {
        "id": "hf75fLHv9T8O"
      },
      "execution_count": null,
      "outputs": []
    },
    {
      "cell_type": "markdown",
      "metadata": {
        "pycharm": {
          "name": "#%% md\n"
        },
        "id": "DxZgGH2K8O6R"
      },
      "source": [
        "### Step 3. Assign it to a variable called crime."
      ]
    },
    {
      "cell_type": "code",
      "execution_count": null,
      "metadata": {
        "pycharm": {
          "name": "#%%\n"
        },
        "id": "9O9pfQaX8O6R"
      },
      "outputs": [],
      "source": [
        "crime = pd.read_csv(url)"
      ]
    },
    {
      "cell_type": "markdown",
      "metadata": {
        "pycharm": {
          "name": "#%% md\n"
        },
        "id": "w-tkZA618O6R"
      },
      "source": [
        "### Step 4. What is the type of the columns?"
      ]
    },
    {
      "cell_type": "code",
      "execution_count": null,
      "metadata": {
        "pycharm": {
          "name": "#%%\n"
        },
        "colab": {
          "base_uri": "https://localhost:8080/"
        },
        "id": "mEelxO-d8O6S",
        "outputId": "0b26b9fe-59ae-4ab7-cf5b-840976651329"
      },
      "outputs": [
        {
          "output_type": "stream",
          "name": "stdout",
          "text": [
            "Column data types:\n",
            "Year                  int64\n",
            "Population            int64\n",
            "Total                 int64\n",
            "Violent               int64\n",
            "Property              int64\n",
            "Murder                int64\n",
            "Forcible_Rape         int64\n",
            "Robbery               int64\n",
            "Aggravated_assault    int64\n",
            "Burglary              int64\n",
            "Larceny_Theft         int64\n",
            "Vehicle_Theft         int64\n",
            "dtype: object\n"
          ]
        }
      ],
      "source": [
        "print(\"Column data types:\")\n",
        "print(crime.dtypes)\n"
      ]
    },
    {
      "cell_type": "markdown",
      "metadata": {
        "pycharm": {
          "name": "#%% md\n"
        },
        "id": "JKXEOD7e8O6S"
      },
      "source": [
        "##### Have you noticed that the type of Year is int64. But pandas has a different type to work with Time Series. Let's see it now.\n",
        "\n",
        "### Step 5. Convert the type of the column Year to datetime64"
      ]
    },
    {
      "cell_type": "code",
      "execution_count": null,
      "metadata": {
        "pycharm": {
          "name": "#%%\n"
        },
        "id": "5nAZM3yG8O6S"
      },
      "outputs": [],
      "source": [
        "crime['Year'] = pd.to_datetime(crime['Year'], format='%Y')"
      ]
    },
    {
      "cell_type": "markdown",
      "metadata": {
        "pycharm": {
          "name": "#%% md\n"
        },
        "id": "JDpB7buk8O6S"
      },
      "source": [
        "### Step 6. Set the Year column as the index of the dataframe"
      ]
    },
    {
      "cell_type": "code",
      "execution_count": null,
      "metadata": {
        "pycharm": {
          "name": "#%%\n"
        },
        "id": "qZ_W5H1v8O6S"
      },
      "outputs": [],
      "source": [
        "crime.set_index('Year', inplace=True)"
      ]
    },
    {
      "cell_type": "markdown",
      "metadata": {
        "pycharm": {
          "name": "#%% md\n"
        },
        "id": "xtvUxwxG8O6T"
      },
      "source": [
        "### Step 7. Delete the Total column"
      ]
    },
    {
      "cell_type": "code",
      "execution_count": null,
      "metadata": {
        "pycharm": {
          "name": "#%%\n"
        },
        "id": "xa8MK3_H8O6T"
      },
      "outputs": [],
      "source": [
        "crime.drop(columns='Total', inplace=True)"
      ]
    },
    {
      "cell_type": "markdown",
      "metadata": {
        "pycharm": {
          "name": "#%% md\n"
        },
        "id": "JDumu1Yu8O6T"
      },
      "source": [
        "### Step 8. Group the year by decades and sum the values\n",
        "\n",
        "#### Pay attention to the Population column number, summing this column is a mistake"
      ]
    },
    {
      "cell_type": "code",
      "execution_count": null,
      "metadata": {
        "scrolled": true,
        "pycharm": {
          "name": "#%%\n"
        },
        "colab": {
          "base_uri": "https://localhost:8080/"
        },
        "id": "TzPyMS0F8O6T",
        "outputId": "c134c20d-9c55-4ff0-b974-becef9d3d6b8"
      },
      "outputs": [
        {
          "output_type": "stream",
          "name": "stdout",
          "text": [
            "\n",
            "Crime statistics by decade:\n",
            "         Violent   Property  Murder  Forcible_Rape  Robbery  \\\n",
            "Decade                                                        \n",
            "1960     4134930   45160900  106180         236720  1633510   \n",
            "1970     9607930   91383800  192230         554570  4159020   \n",
            "1980    14074328  117048900  206439         865639  5383109   \n",
            "1990    17527048  119053499  211664         998827  5748930   \n",
            "2000    13968056  100944369  163068         922499  4230366   \n",
            "2010     6072017   44095950   72867         421059  1749809   \n",
            "\n",
            "        Aggravated_assault  Burglary  Larceny_Theft  Vehicle_Theft  \n",
            "Decade                                                              \n",
            "1960               2158520  13321100       26547700        5292100  \n",
            "1970               4702120  28486000       53157800        9739900  \n",
            "1980               7619130  33073494       72040253       11935411  \n",
            "1990              10568963  26750015       77679366       14624418  \n",
            "2000               8652124  21565176       67970291       11412834  \n",
            "2010               3764142  10125170       30401698        3569080  \n"
          ]
        }
      ],
      "source": [
        "crime['Decade'] = (crime.index.year // 10) * 10\n",
        "\n",
        "# Group by decade and aggregate\n",
        "decade_grouped = crime.groupby('Decade').agg({\n",
        "    'Violent': 'sum',\n",
        "    'Property': 'sum',\n",
        "    'Murder': 'sum',\n",
        "    'Forcible_Rape': 'sum',\n",
        "    'Robbery': 'sum',\n",
        "    'Aggravated_assault': 'sum',\n",
        "    'Burglary': 'sum',\n",
        "    'Larceny_Theft': 'sum',\n",
        "    'Vehicle_Theft': 'sum'\n",
        "})\n",
        "print(\"\\nCrime statistics by decade:\")\n",
        "print(decade_grouped)"
      ]
    },
    {
      "cell_type": "markdown",
      "metadata": {
        "pycharm": {
          "name": "#%% md\n"
        },
        "id": "7Mm3LEW28O6T"
      },
      "source": [
        "### Step 9. What is the most dangerous decade to live in the US?"
      ]
    },
    {
      "cell_type": "code",
      "execution_count": null,
      "metadata": {
        "pycharm": {
          "name": "#%%\n"
        },
        "colab": {
          "base_uri": "https://localhost:8080/"
        },
        "id": "xW4rJ6bE8O6T",
        "outputId": "e1bf7de0-65ba-41ea-c2b3-4b0b7052963c"
      },
      "outputs": [
        {
          "output_type": "stream",
          "name": "stdout",
          "text": [
            "\n",
            "Most dangerous decade (based on violent crime): 1990s\n"
          ]
        }
      ],
      "source": [
        "most_dangerous_decade = decade_grouped['Violent'].idxmax()\n",
        "print(f\"\\nMost dangerous decade (based on violent crime): {most_dangerous_decade}s\")"
      ]
    },
    {
      "cell_type": "code",
      "source": [],
      "metadata": {
        "id": "Rk0R3UOCAgLC"
      },
      "execution_count": null,
      "outputs": []
    }
  ],
  "metadata": {
    "anaconda-cloud": {},
    "kernelspec": {
      "display_name": "Python 3",
      "name": "python3"
    },
    "language_info": {
      "name": "python"
    },
    "colab": {
      "provenance": []
    }
  },
  "nbformat": 4,
  "nbformat_minor": 0
}