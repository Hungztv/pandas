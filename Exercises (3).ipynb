{
  "cells": [
    {
      "cell_type": "markdown",
      "metadata": {
        "pycharm": {
          "name": "#%% md\n"
        },
        "id": "BqMQ3TmB2BdD"
      },
      "source": [
        "# Wind Statistics"
      ]
    },
    {
      "cell_type": "markdown",
      "metadata": {
        "pycharm": {
          "name": "#%% md\n"
        },
        "id": "kODJZ6UN2BdF"
      },
      "source": [
        "### Introduction:\n",
        "\n",
        "The data have been modified to contain some missing values, identified by NaN.  \n",
        "Using pandas should make this exercise\n",
        "easier, in particular for the bonus question.\n",
        "\n",
        "You should be able to perform all of these operations without using\n",
        "a for loop or other looping construct.\n",
        "\n",
        "\n",
        "1. The data in 'wind.data' has the following format:"
      ]
    },
    {
      "cell_type": "code",
      "execution_count": null,
      "metadata": {
        "pycharm": {
          "name": "#%%\n"
        },
        "id": "8u9uTS812BdG",
        "outputId": "f883ea11-d47d-46d9-dd38-7ca2825a61de"
      },
      "outputs": [
        {
          "data": {
            "text/plain": [
              "'\\nYr Mo Dy   RPT   VAL   ROS   KIL   SHA   BIR   DUB   CLA   MUL   CLO   BEL   MAL\\n61  1  1 15.04 14.96 13.17  9.29   NaN  9.87 13.67 10.25 10.83 12.58 18.50 15.04\\n61  1  2 14.71   NaN 10.83  6.50 12.62  7.67 11.50 10.04  9.79  9.67 17.54 13.83\\n61  1  3 18.50 16.88 12.33 10.13 11.17  6.17 11.25   NaN  8.50  7.67 12.75 12.71\\n'"
            ]
          },
          "execution_count": 434,
          "metadata": {},
          "output_type": "execute_result"
        }
      ],
      "source": [
        "\"\"\"\n",
        "Yr Mo Dy   RPT   VAL   ROS   KIL   SHA   BIR   DUB   CLA   MUL   CLO   BEL   MAL\n",
        "61  1  1 15.04 14.96 13.17  9.29   NaN  9.87 13.67 10.25 10.83 12.58 18.50 15.04\n",
        "61  1  2 14.71   NaN 10.83  6.50 12.62  7.67 11.50 10.04  9.79  9.67 17.54 13.83\n",
        "61  1  3 18.50 16.88 12.33 10.13 11.17  6.17 11.25   NaN  8.50  7.67 12.75 12.71\n",
        "\"\"\""
      ]
    },
    {
      "cell_type": "markdown",
      "metadata": {
        "pycharm": {
          "name": "#%% md\n"
        },
        "id": "5BPvbdOX2BdI"
      },
      "source": [
        "   The first three columns are year, month and day.  The\n",
        "   remaining 12 columns are average windspeeds in knots at 12\n",
        "   locations in Ireland on that day.   \n",
        "\n",
        "   More information about the dataset go [here](wind.desc)."
      ]
    },
    {
      "cell_type": "markdown",
      "metadata": {
        "collapsed": false,
        "pycharm": {
          "name": "#%% md\n"
        },
        "id": "3sxULNlC2BdJ"
      },
      "source": [
        "### Step 1. Import the necessary libraries"
      ]
    },
    {
      "cell_type": "code",
      "execution_count": null,
      "metadata": {
        "pycharm": {
          "name": "#%%\n"
        },
        "id": "WcBdxzwy2BdJ"
      },
      "outputs": [],
      "source": [
        "import pandas as pd\n",
        "import numpy as np"
      ]
    },
    {
      "cell_type": "markdown",
      "metadata": {
        "pycharm": {
          "name": "#%% md\n"
        },
        "id": "4WCBZRf82BdJ"
      },
      "source": [
        "### Step 2. Import the dataset from this [address](https://raw.githubusercontent.com/thieu1995/csv-files/main/data/pandas/wind.data)"
      ]
    },
    {
      "cell_type": "code",
      "source": [
        "data_url = 'https://raw.githubusercontent.com/thieu1995/csv-files/main/data/pandas/wind.data'\n",
        "data = pd.read_csv(data_url, delim_whitespace=True)"
      ],
      "metadata": {
        "colab": {
          "base_uri": "https://localhost:8080/"
        },
        "id": "ddqXcsLB3Yu0",
        "outputId": "983ac827-80e2-4a73-b655-c1de30cdd826"
      },
      "execution_count": null,
      "outputs": [
        {
          "output_type": "stream",
          "name": "stderr",
          "text": [
            "<ipython-input-3-d5f2e59a5c1a>:2: FutureWarning: The 'delim_whitespace' keyword in pd.read_csv is deprecated and will be removed in a future version. Use ``sep='\\s+'`` instead\n",
            "  data = pd.read_csv(data_url, delim_whitespace=True)\n"
          ]
        }
      ]
    },
    {
      "cell_type": "markdown",
      "metadata": {
        "pycharm": {
          "name": "#%% md\n"
        },
        "id": "EDwthcAs2BdJ"
      },
      "source": [
        "### Step 3. Assign it to a variable called data and replace the first 3 columns by a proper datetime index."
      ]
    },
    {
      "cell_type": "code",
      "execution_count": null,
      "metadata": {
        "pycharm": {
          "name": "#%%\n"
        },
        "id": "vhPSdVXV2BdK"
      },
      "outputs": [],
      "source": [
        "date_index = pd.to_datetime(dict(year=data.Yr, month=data.Mo, day=data.Dy), errors='coerce')\n",
        "data.index = date_index\n",
        "data = data.drop(columns=['Yr', 'Mo', 'Dy'])"
      ]
    },
    {
      "cell_type": "markdown",
      "metadata": {
        "pycharm": {
          "name": "#%% md\n"
        },
        "id": "8zWRclwl2BdK"
      },
      "source": [
        "### Step 4. Year 2061? Do we really have data from this year? Create a function to fix it and apply it."
      ]
    },
    {
      "cell_type": "code",
      "execution_count": null,
      "metadata": {
        "pycharm": {
          "name": "#%%\n"
        },
        "id": "Ju3TTWdy2BdK"
      },
      "outputs": [],
      "source": [
        "def correct_year(dt_index):\n",
        "    return dt_index.map(lambda d: d.replace(year=d.year + 1900 if d.year < 100 else d.year))\n",
        "\n",
        "data.index = correct_year(data.index)"
      ]
    },
    {
      "cell_type": "markdown",
      "metadata": {
        "pycharm": {
          "name": "#%% md\n"
        },
        "id": "hhgH5TrD2BdL"
      },
      "source": [
        "### Step 5. Set the right dates as the index. Pay attention at the data type, it should be datetime64[ns]."
      ]
    },
    {
      "cell_type": "code",
      "execution_count": null,
      "metadata": {
        "pycharm": {
          "name": "#%%\n"
        },
        "id": "bp1d-4xk2BdL"
      },
      "outputs": [],
      "source": [
        "data.index = pd.to_datetime(data.index)"
      ]
    },
    {
      "cell_type": "markdown",
      "metadata": {
        "pycharm": {
          "name": "#%% md\n"
        },
        "id": "dRT1GrVR2BdL"
      },
      "source": [
        "### Step 6. Compute how many values are missing for each location over the entire record.  \n",
        "#### They should be ignored in all calculations below."
      ]
    },
    {
      "cell_type": "code",
      "execution_count": null,
      "metadata": {
        "pycharm": {
          "name": "#%%\n"
        },
        "id": "N2Ui38n_2BdL",
        "colab": {
          "base_uri": "https://localhost:8080/"
        },
        "outputId": "9ed0099a-c433-440a-f8d3-918e8fb8b711"
      },
      "outputs": [
        {
          "output_type": "stream",
          "name": "stdout",
          "text": [
            "Missing values per location:\n",
            " RPT    6\n",
            "VAL    3\n",
            "ROS    2\n",
            "KIL    5\n",
            "SHA    2\n",
            "BIR    0\n",
            "DUB    3\n",
            "CLA    2\n",
            "MUL    3\n",
            "CLO    1\n",
            "BEL    0\n",
            "MAL    4\n",
            "dtype: int64\n"
          ]
        }
      ],
      "source": [
        "missing_values = data.isna().sum()\n",
        "print(\"Missing values per location:\\n\", missing_values)"
      ]
    },
    {
      "cell_type": "markdown",
      "metadata": {
        "pycharm": {
          "name": "#%% md\n"
        },
        "id": "I9lPp6DH2BdL"
      },
      "source": [
        "### Step 7. Compute how many non-missing values there are in total."
      ]
    },
    {
      "cell_type": "code",
      "execution_count": null,
      "metadata": {
        "scrolled": true,
        "pycharm": {
          "name": "#%%\n"
        },
        "id": "kdErbQP72BdM",
        "colab": {
          "base_uri": "https://localhost:8080/"
        },
        "outputId": "306a4d49-7ab1-4f22-836f-831184a025c1"
      },
      "outputs": [
        {
          "output_type": "stream",
          "name": "stdout",
          "text": [
            "\n",
            "Total non-missing values: 78857\n"
          ]
        }
      ],
      "source": [
        "non_missing_total = data.notna().sum().sum()\n",
        "print(\"\\nTotal non-missing values:\", non_missing_total)"
      ]
    },
    {
      "cell_type": "markdown",
      "metadata": {
        "pycharm": {
          "name": "#%% md\n"
        },
        "id": "_guBNQUj2BdM"
      },
      "source": [
        "### Step 8. Calculate the mean windspeeds of the windspeeds over all the locations and all the times.\n",
        "#### A single number for the entire dataset."
      ]
    },
    {
      "cell_type": "code",
      "execution_count": null,
      "metadata": {
        "pycharm": {
          "name": "#%%\n"
        },
        "id": "M-t_lutP2BdM",
        "colab": {
          "base_uri": "https://localhost:8080/"
        },
        "outputId": "fe2837d3-29da-4c97-d2c0-a27e7acceb51"
      },
      "outputs": [
        {
          "output_type": "stream",
          "name": "stdout",
          "text": [
            "\n",
            "Overall mean windspeed: 10.22788376428218\n"
          ]
        }
      ],
      "source": [
        "mean_windspeed = data.stack().mean()\n",
        "print(\"\\nOverall mean windspeed:\", mean_windspeed)"
      ]
    },
    {
      "cell_type": "markdown",
      "metadata": {
        "pycharm": {
          "name": "#%% md\n"
        },
        "id": "z47L6VSa2BdM"
      },
      "source": [
        "### Step 9. Create a DataFrame called loc_stats and calculate the min, max and mean windspeeds and standard deviations of the windspeeds at each location over all the days\n",
        "\n",
        "#### A different set of numbers for each location."
      ]
    },
    {
      "cell_type": "code",
      "execution_count": null,
      "metadata": {
        "pycharm": {
          "name": "#%%\n"
        },
        "id": "C7nHzaTp2BdM",
        "colab": {
          "base_uri": "https://localhost:8080/"
        },
        "outputId": "657a0e1e-b36f-463a-a15e-18fe7f3fe1e1"
      },
      "outputs": [
        {
          "output_type": "stream",
          "name": "stdout",
          "text": [
            "\n",
            "Location statistics:\n",
            "             RPT        VAL        ROS        KIL        SHA        BIR  \\\n",
            "min    0.670000   0.210000   1.500000   0.000000   0.130000   0.000000   \n",
            "max   35.800000  33.370000  33.840000  28.460000  37.540000  26.160000   \n",
            "mean  12.362987  10.644314  11.660526   6.306468  10.455834   7.092254   \n",
            "std    5.618413   5.267356   5.008450   3.605811   4.936125   3.968683   \n",
            "\n",
            "            DUB        CLA        MUL        CLO        BEL        MAL  \n",
            "min    0.000000   0.000000   0.000000   0.040000   0.130000   0.670000  \n",
            "max   30.370000  31.080000  25.880000  28.210000  42.380000  42.540000  \n",
            "mean   9.797343   8.495053   8.493590   8.707332  13.121007  15.599079  \n",
            "std    4.977555   4.499449   4.166872   4.503954   5.835037   6.699794  \n"
          ]
        }
      ],
      "source": [
        "loc_stats = data.aggregate(['min', 'max', 'mean', 'std'])\n",
        "print(\"\\nLocation statistics:\\n\", loc_stats)"
      ]
    },
    {
      "cell_type": "markdown",
      "metadata": {
        "pycharm": {
          "name": "#%% md\n"
        },
        "id": "AZOhQMq72BdM"
      },
      "source": [
        "### Step 10. Create a DataFrame called day_stats and calculate the min, max and mean windspeed and standard deviations of the windspeeds across all the locations at each day.\n",
        "\n",
        "#### A different set of numbers for each day."
      ]
    },
    {
      "cell_type": "code",
      "execution_count": null,
      "metadata": {
        "pycharm": {
          "name": "#%%\n"
        },
        "id": "7s6WNy4p2BdM",
        "colab": {
          "base_uri": "https://localhost:8080/"
        },
        "outputId": "5e72c678-6321-4b19-a1b0-d81cf3259960"
      },
      "outputs": [
        {
          "output_type": "stream",
          "name": "stdout",
          "text": [
            "\n",
            "Day statistics (first few rows):\n",
            "       min    max       mean       std\n",
            "NaT  9.29  18.50  13.018182  2.808875\n",
            "NaT  6.50  17.54  11.336364  3.188994\n",
            "NaT  6.17  18.50  11.641818  3.681912\n",
            "NaT  1.79  11.75   6.619167  3.198126\n",
            "NaT  6.17  13.33  10.630000  2.445356\n"
          ]
        }
      ],
      "source": [
        "day_stats = data.aggregate(['min', 'max', 'mean', 'std'], axis=1)\n",
        "print(\"\\nDay statistics (first few rows):\\n\", day_stats.head())"
      ]
    },
    {
      "cell_type": "markdown",
      "metadata": {
        "pycharm": {
          "name": "#%% md\n"
        },
        "id": "qKwnHKjI2BdN"
      },
      "source": [
        "### Step 11. Find the average windspeed in January for each location.  \n",
        "#### Treat January 1961 and January 1962 both as January."
      ]
    },
    {
      "cell_type": "code",
      "execution_count": null,
      "metadata": {
        "pycharm": {
          "name": "#%%\n"
        },
        "id": "kTas6mBr2BdN",
        "colab": {
          "base_uri": "https://localhost:8080/"
        },
        "outputId": "f4e52a99-39cd-4a3b-e652-3557ae83575a"
      },
      "outputs": [
        {
          "output_type": "stream",
          "name": "stdout",
          "text": [
            "\n",
            "Average January windspeed per location:\n",
            " RPT   NaN\n",
            "VAL   NaN\n",
            "ROS   NaN\n",
            "KIL   NaN\n",
            "SHA   NaN\n",
            "BIR   NaN\n",
            "DUB   NaN\n",
            "CLA   NaN\n",
            "MUL   NaN\n",
            "CLO   NaN\n",
            "BEL   NaN\n",
            "MAL   NaN\n",
            "dtype: float64\n"
          ]
        }
      ],
      "source": [
        "january_data = data[data.index.month == 1]\n",
        "january_mean = january_data.mean()\n",
        "print(\"\\nAverage January windspeed per location:\\n\", january_mean)\n"
      ]
    },
    {
      "cell_type": "markdown",
      "metadata": {
        "pycharm": {
          "name": "#%% md\n"
        },
        "id": "a6Xdmy8X2BdN"
      },
      "source": [
        "### Step 12. Downsample the record to a yearly frequency for each location."
      ]
    },
    {
      "cell_type": "code",
      "execution_count": null,
      "metadata": {
        "pycharm": {
          "name": "#%%\n"
        },
        "id": "_dEhF64P2BdN",
        "colab": {
          "base_uri": "https://localhost:8080/"
        },
        "outputId": "344b057b-5511-4a4b-a2a7-2629818d1f7d"
      },
      "outputs": [
        {
          "output_type": "stream",
          "name": "stdout",
          "text": [
            "\n",
            "Yearly mean (first few rows):\n",
            " Empty DataFrame\n",
            "Columns: [RPT, VAL, ROS, KIL, SHA, BIR, DUB, CLA, MUL, CLO, BEL, MAL]\n",
            "Index: []\n"
          ]
        },
        {
          "output_type": "stream",
          "name": "stderr",
          "text": [
            "<ipython-input-14-9fe7b1a9523c>:10: FutureWarning: 'Y' is deprecated and will be removed in a future version, please use 'YE' instead.\n",
            "  yearly = data.resample('Y').mean()\n"
          ]
        }
      ],
      "source": [
        "# Before resampling, check and handle NaT values in the index\n",
        "# First, identify if there are any NaT values in the index\n",
        "if data.index.isna().any():\n",
        "    # If NaT values are present, either drop rows with NaT index\n",
        "    data = data[data.index.notna()]\n",
        "    # or fill NaT values with appropriate timestamps (if possible)\n",
        "    # data.index = data.index.fillna(method='ffill')  # for example, forward fill\n",
        "\n",
        "# Now you can proceed with resampling\n",
        "yearly = data.resample('Y').mean()\n",
        "print(\"\\nYearly mean (first few rows):\\n\", yearly.head())"
      ]
    },
    {
      "cell_type": "markdown",
      "metadata": {
        "pycharm": {
          "name": "#%% md\n"
        },
        "id": "-TY00s7f2BdN"
      },
      "source": [
        "### Step 13. Downsample the record to a monthly frequency for each location."
      ]
    },
    {
      "cell_type": "code",
      "execution_count": null,
      "metadata": {
        "pycharm": {
          "name": "#%%\n"
        },
        "id": "1Iur91EH2BdN",
        "colab": {
          "base_uri": "https://localhost:8080/"
        },
        "outputId": "2aa58315-a390-4072-89b2-a871066ce877"
      },
      "outputs": [
        {
          "output_type": "stream",
          "name": "stdout",
          "text": [
            "\n",
            "Monthly mean (first few rows):\n",
            " Empty DataFrame\n",
            "Columns: [RPT, VAL, ROS, KIL, SHA, BIR, DUB, CLA, MUL, CLO, BEL, MAL]\n",
            "Index: []\n"
          ]
        },
        {
          "output_type": "stream",
          "name": "stderr",
          "text": [
            "<ipython-input-15-463d5cd97f7e>:1: FutureWarning: 'M' is deprecated and will be removed in a future version, please use 'ME' instead.\n",
            "  monthly = data.resample('M').mean()\n"
          ]
        }
      ],
      "source": [
        "monthly = data.resample('M').mean()\n",
        "print(\"\\nMonthly mean (first few rows):\\n\", monthly.head())"
      ]
    },
    {
      "cell_type": "markdown",
      "metadata": {
        "pycharm": {
          "name": "#%% md\n"
        },
        "id": "SUsQI6SH2BdN"
      },
      "source": [
        "### Step 14. Downsample the record to a weekly frequency for each location."
      ]
    },
    {
      "cell_type": "code",
      "execution_count": null,
      "metadata": {
        "pycharm": {
          "name": "#%%\n"
        },
        "id": "T2czqsPY2BdO",
        "colab": {
          "base_uri": "https://localhost:8080/"
        },
        "outputId": "2de9bcb0-e314-4539-ca90-978c2cbcf7e4"
      },
      "outputs": [
        {
          "output_type": "stream",
          "name": "stdout",
          "text": [
            "\n",
            "Weekly mean (first few rows):\n",
            " Empty DataFrame\n",
            "Columns: [RPT, VAL, ROS, KIL, SHA, BIR, DUB, CLA, MUL, CLO, BEL, MAL]\n",
            "Index: []\n"
          ]
        }
      ],
      "source": [
        "weekly = data.resample('W').mean()\n",
        "print(\"\\nWeekly mean (first few rows):\\n\", weekly.head())"
      ]
    },
    {
      "cell_type": "markdown",
      "metadata": {
        "pycharm": {
          "name": "#%% md\n"
        },
        "id": "Nn90nTVF2BdO"
      },
      "source": [
        "### Step 15. Calculate the min, max and mean windspeeds and standard deviations of the windspeeds across all locations for each week (assume that the first week starts on January 2 1961) for the first 52 weeks."
      ]
    },
    {
      "cell_type": "code",
      "execution_count": null,
      "metadata": {
        "pycharm": {
          "name": "#%%\n"
        },
        "id": "S96yplre2BdO",
        "colab": {
          "base_uri": "https://localhost:8080/"
        },
        "outputId": "60d86dc9-c11b-45e3-c46d-97b8838f60c4"
      },
      "outputs": [
        {
          "output_type": "stream",
          "name": "stdout",
          "text": [
            "\n",
            "Weekly stats for first 52 weeks:\n",
            " Empty DataFrame\n",
            "Columns: [(RPT, min), (RPT, max), (RPT, mean), (RPT, std), (VAL, min), (VAL, max), (VAL, mean), (VAL, std), (ROS, min), (ROS, max), (ROS, mean), (ROS, std), (KIL, min), (KIL, max), (KIL, mean), (KIL, std), (SHA, min), (SHA, max), (SHA, mean), (SHA, std), (BIR, min), (BIR, max), (BIR, mean), (BIR, std), (DUB, min), (DUB, max), (DUB, mean), (DUB, std), (CLA, min), (CLA, max), (CLA, mean), (CLA, std), (MUL, min), (MUL, max), (MUL, mean), (MUL, std), (CLO, min), (CLO, max), (CLO, mean), (CLO, std), (BEL, min), (BEL, max), (BEL, mean), (BEL, std), (MAL, min), (MAL, max), (MAL, mean), (MAL, std)]\n",
            "Index: []\n",
            "\n",
            "[0 rows x 48 columns]\n"
          ]
        }
      ],
      "source": [
        "weekly_stats = data.resample('W-MON').agg(['min', 'max', 'mean', 'std'])\n",
        "first_52_weeks = weekly_stats.iloc[:52]\n",
        "print(\"\\nWeekly stats for first 52 weeks:\\n\", first_52_weeks.head())"
      ]
    }
  ],
  "metadata": {
    "anaconda-cloud": {},
    "kernelspec": {
      "display_name": "Python 3",
      "name": "python3"
    },
    "language_info": {
      "name": "python"
    },
    "colab": {
      "provenance": []
    }
  },
  "nbformat": 4,
  "nbformat_minor": 0
}