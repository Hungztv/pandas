{
  "cells": [
    {
      "cell_type": "markdown",
      "metadata": {
        "pycharm": {
          "name": "#%% md\n"
        },
        "id": "8wf5aJJl4g-h"
      },
      "source": [
        "# Regiment"
      ]
    },
    {
      "cell_type": "markdown",
      "metadata": {
        "pycharm": {
          "name": "#%% md\n"
        },
        "id": "6G7E0SKT4g-k"
      },
      "source": [
        "### Introduction:\n",
        "\n",
        "Special thanks to: http://chrisalbon.com/ for sharing the dataset and materials.\n",
        "\n",
        "### Step 1. Import the necessary libraries"
      ]
    },
    {
      "cell_type": "code",
      "execution_count": null,
      "metadata": {
        "pycharm": {
          "name": "#%%\n"
        },
        "id": "G_xLt7kV4g-m"
      },
      "outputs": [],
      "source": [
        "import pandas as pd"
      ]
    },
    {
      "cell_type": "markdown",
      "metadata": {
        "pycharm": {
          "name": "#%% md\n"
        },
        "id": "5DBCg8ad4g-n"
      },
      "source": [
        "### Step 2. Create the DataFrame with the following values:"
      ]
    },
    {
      "cell_type": "code",
      "execution_count": null,
      "metadata": {
        "collapsed": true,
        "pycharm": {
          "name": "#%%\n"
        },
        "id": "YlsexCFR4g-o"
      },
      "outputs": [],
      "source": [
        "raw_data = {'regiment': ['Nighthawks', 'Nighthawks', 'Nighthawks', 'Nighthawks', 'Dragoons', 'Dragoons', 'Dragoons', 'Dragoons', 'Scouts', 'Scouts', 'Scouts', 'Scouts'],\n",
        "        'company': ['1st', '1st', '2nd', '2nd', '1st', '1st', '2nd', '2nd','1st', '1st', '2nd', '2nd'],\n",
        "        'name': ['Miller', 'Jacobson', 'Ali', 'Milner', 'Cooze', 'Jacon', 'Ryaner', 'Sone', 'Sloan', 'Piger', 'Riani', 'Ali'],\n",
        "        'preTestScore': [4, 24, 31, 2, 3, 4, 24, 31, 2, 3, 2, 3],\n",
        "        'postTestScore': [25, 94, 57, 62, 70, 25, 94, 57, 62, 70, 62, 70]}"
      ]
    },
    {
      "cell_type": "markdown",
      "metadata": {
        "pycharm": {
          "name": "#%% md\n"
        },
        "id": "pEahcNe94g-q"
      },
      "source": [
        "### Step 3. Assign it to a variable called regiment.\n",
        "#### Don't forget to name each column"
      ]
    },
    {
      "cell_type": "code",
      "execution_count": null,
      "metadata": {
        "pycharm": {
          "name": "#%%\n"
        },
        "id": "gbmUDRKg4g-r"
      },
      "outputs": [],
      "source": [
        "regiment = pd.DataFrame(raw_data)"
      ]
    },
    {
      "cell_type": "markdown",
      "metadata": {
        "pycharm": {
          "name": "#%% md\n"
        },
        "id": "UQ5eW0Y64g-r"
      },
      "source": [
        "### Step 4. What is the mean preTestScore from the regiment Nighthawks?  "
      ]
    },
    {
      "cell_type": "code",
      "execution_count": null,
      "metadata": {
        "pycharm": {
          "name": "#%%\n"
        },
        "colab": {
          "base_uri": "https://localhost:8080/"
        },
        "id": "lRWr272x4g-s",
        "outputId": "3ca72ea1-3e1e-4cce-f0a4-7959906bdc9c"
      },
      "outputs": [
        {
          "output_type": "stream",
          "name": "stdout",
          "text": [
            "Mean preTestScore for Nighthawks: 15.25\n"
          ]
        }
      ],
      "source": [
        "mean_nighthawks = regiment[regiment['regiment'] == 'Nighthawks']['preTestScore'].mean()\n",
        "print(\"Mean preTestScore for Nighthawks:\", mean_nighthawks)"
      ]
    },
    {
      "cell_type": "markdown",
      "metadata": {
        "pycharm": {
          "name": "#%% md\n"
        },
        "id": "RmU0Xfw64g-u"
      },
      "source": [
        "### Step 5. Present general statistics by company"
      ]
    },
    {
      "cell_type": "code",
      "execution_count": null,
      "metadata": {
        "pycharm": {
          "name": "#%%\n"
        },
        "colab": {
          "base_uri": "https://localhost:8080/"
        },
        "id": "sJcNCUek4g-v",
        "outputId": "3c0f8efa-ea2f-4143-abcc-a7b7814e83b9"
      },
      "outputs": [
        {
          "output_type": "stream",
          "name": "stdout",
          "text": [
            "\n",
            "Statistics by company:\n",
            "        preTestScore                                                      \\\n",
            "               count       mean        std  min   25%   50%    75%   max   \n",
            "company                                                                    \n",
            "1st              6.0   6.666667   8.524475  2.0  3.00   3.5   4.00  24.0   \n",
            "2nd              6.0  15.500000  14.652645  2.0  2.25  13.5  29.25  31.0   \n",
            "\n",
            "        postTestScore                                                       \n",
            "                count       mean        std   min    25%   50%   75%   max  \n",
            "company                                                                     \n",
            "1st               6.0  57.666667  27.485754  25.0  34.25  66.0  70.0  94.0  \n",
            "2nd               6.0  67.000000  14.057027  57.0  58.25  62.0  68.0  94.0  \n"
          ]
        }
      ],
      "source": [
        "stats_by_company = regiment.groupby('company').describe()\n",
        "print(\"\\nStatistics by company:\")\n",
        "print(stats_by_company)"
      ]
    },
    {
      "cell_type": "markdown",
      "metadata": {
        "pycharm": {
          "name": "#%% md\n"
        },
        "id": "efhWi18k4g-v"
      },
      "source": [
        "### Step 6. What is the mean of each company's preTestScore?"
      ]
    },
    {
      "cell_type": "code",
      "execution_count": null,
      "metadata": {
        "pycharm": {
          "name": "#%%\n"
        },
        "colab": {
          "base_uri": "https://localhost:8080/"
        },
        "id": "sz7DRG9x4g-w",
        "outputId": "88d54e84-e216-4dd3-d152-df137c15840c"
      },
      "outputs": [
        {
          "output_type": "stream",
          "name": "stdout",
          "text": [
            "\n",
            "Mean preTestScore by company:\n",
            "company\n",
            "1st     6.666667\n",
            "2nd    15.500000\n",
            "Name: preTestScore, dtype: float64\n"
          ]
        }
      ],
      "source": [
        "mean_pre_by_company = regiment.groupby('company')['preTestScore'].mean()\n",
        "print(\"\\nMean preTestScore by company:\")\n",
        "print(mean_pre_by_company)"
      ]
    },
    {
      "cell_type": "markdown",
      "metadata": {
        "pycharm": {
          "name": "#%% md\n"
        },
        "id": "IUTpu9Cq4g-w"
      },
      "source": [
        "### Step 7. Present the mean preTestScores grouped by regiment and company"
      ]
    },
    {
      "cell_type": "code",
      "execution_count": null,
      "metadata": {
        "pycharm": {
          "name": "#%%\n"
        },
        "colab": {
          "base_uri": "https://localhost:8080/"
        },
        "id": "8FDis4tt4g-x",
        "outputId": "ceca3318-6084-4bd6-a30e-bfb16a912748"
      },
      "outputs": [
        {
          "output_type": "stream",
          "name": "stdout",
          "text": [
            "\n",
            "Mean preTestScore grouped by regiment and company:\n",
            "regiment    company\n",
            "Dragoons    1st         3.5\n",
            "            2nd        27.5\n",
            "Nighthawks  1st        14.0\n",
            "            2nd        16.5\n",
            "Scouts      1st         2.5\n",
            "            2nd         2.5\n",
            "Name: preTestScore, dtype: float64\n"
          ]
        }
      ],
      "source": [
        "mean_by_regiment_company = regiment.groupby(['regiment', 'company'])['preTestScore'].mean()\n",
        "print(\"\\nMean preTestScore grouped by regiment and company:\")\n",
        "print(mean_by_regiment_company)"
      ]
    },
    {
      "cell_type": "markdown",
      "metadata": {
        "pycharm": {
          "name": "#%% md\n"
        },
        "id": "YOlxR6SJ4g-x"
      },
      "source": [
        "### Step 8. Present the mean preTestScores grouped by regiment and company without heirarchical indexing"
      ]
    },
    {
      "cell_type": "code",
      "execution_count": null,
      "metadata": {
        "pycharm": {
          "name": "#%%\n"
        },
        "colab": {
          "base_uri": "https://localhost:8080/"
        },
        "id": "KE-rciAG4g-x",
        "outputId": "bc87a556-eb0c-47e9-95f8-df4795d411a3"
      },
      "outputs": [
        {
          "output_type": "stream",
          "name": "stdout",
          "text": [
            "\n",
            "Mean preTestScore without hierarchical indexing:\n",
            "     regiment company  preTestScore\n",
            "0    Dragoons     1st           3.5\n",
            "1    Dragoons     2nd          27.5\n",
            "2  Nighthawks     1st          14.0\n",
            "3  Nighthawks     2nd          16.5\n",
            "4      Scouts     1st           2.5\n",
            "5      Scouts     2nd           2.5\n"
          ]
        }
      ],
      "source": [
        "mean_by_flat = mean_by_regiment_company.reset_index()\n",
        "print(\"\\nMean preTestScore without hierarchical indexing:\")\n",
        "print(mean_by_flat)"
      ]
    },
    {
      "cell_type": "markdown",
      "metadata": {
        "pycharm": {
          "name": "#%% md\n"
        },
        "id": "bf15ybqU4g-y"
      },
      "source": [
        "### Step 9. Group the entire dataframe by regiment and company"
      ]
    },
    {
      "cell_type": "code",
      "execution_count": null,
      "metadata": {
        "pycharm": {
          "name": "#%%\n"
        },
        "id": "XFjI_JFA4g-z"
      },
      "outputs": [],
      "source": [
        "grouped = regiment.groupby(['regiment', 'company'])"
      ]
    },
    {
      "cell_type": "markdown",
      "metadata": {
        "pycharm": {
          "name": "#%% md\n"
        },
        "id": "GK2b31I44g-z"
      },
      "source": [
        "### Step 10. What is the number of observations in each regiment and company"
      ]
    },
    {
      "cell_type": "code",
      "execution_count": null,
      "metadata": {
        "pycharm": {
          "name": "#%%\n"
        },
        "colab": {
          "base_uri": "https://localhost:8080/"
        },
        "id": "uLdpIfHL4g-0",
        "outputId": "fdf593fc-d6f6-4b31-f460-6a770724b07a"
      },
      "outputs": [
        {
          "output_type": "stream",
          "name": "stdout",
          "text": [
            "\n",
            "Number of observations per regiment and company:\n",
            "regiment    company\n",
            "Dragoons    1st        2\n",
            "            2nd        2\n",
            "Nighthawks  1st        2\n",
            "            2nd        2\n",
            "Scouts      1st        2\n",
            "            2nd        2\n",
            "dtype: int64\n"
          ]
        }
      ],
      "source": [
        "obs_count = grouped.size()\n",
        "print(\"\\nNumber of observations per regiment and company:\")\n",
        "print(obs_count)"
      ]
    },
    {
      "cell_type": "markdown",
      "metadata": {
        "pycharm": {
          "name": "#%% md\n"
        },
        "id": "9EJorUsA4g-0"
      },
      "source": [
        "### Step 11. Iterate over a group and print the name and the whole data from the regiment"
      ]
    },
    {
      "cell_type": "code",
      "execution_count": null,
      "metadata": {
        "pycharm": {
          "name": "#%%\n"
        },
        "colab": {
          "base_uri": "https://localhost:8080/"
        },
        "id": "_Icsl9f94g-0",
        "outputId": "b99f275f-7de3-425b-c57b-256a0a15dd8e"
      },
      "outputs": [
        {
          "output_type": "stream",
          "name": "stdout",
          "text": [
            "\n",
            "Iterating over groups:\n",
            "\n",
            "Group name: ('Dragoons', '1st')\n",
            "   regiment company   name  preTestScore  postTestScore\n",
            "4  Dragoons     1st  Cooze             3             70\n",
            "5  Dragoons     1st  Jacon             4             25\n",
            "\n",
            "Group name: ('Dragoons', '2nd')\n",
            "   regiment company    name  preTestScore  postTestScore\n",
            "6  Dragoons     2nd  Ryaner            24             94\n",
            "7  Dragoons     2nd    Sone            31             57\n",
            "\n",
            "Group name: ('Nighthawks', '1st')\n",
            "     regiment company      name  preTestScore  postTestScore\n",
            "0  Nighthawks     1st    Miller             4             25\n",
            "1  Nighthawks     1st  Jacobson            24             94\n",
            "\n",
            "Group name: ('Nighthawks', '2nd')\n",
            "     regiment company    name  preTestScore  postTestScore\n",
            "2  Nighthawks     2nd     Ali            31             57\n",
            "3  Nighthawks     2nd  Milner             2             62\n",
            "\n",
            "Group name: ('Scouts', '1st')\n",
            "  regiment company   name  preTestScore  postTestScore\n",
            "8   Scouts     1st  Sloan             2             62\n",
            "9   Scouts     1st  Piger             3             70\n",
            "\n",
            "Group name: ('Scouts', '2nd')\n",
            "   regiment company   name  preTestScore  postTestScore\n",
            "10   Scouts     2nd  Riani             2             62\n",
            "11   Scouts     2nd    Ali             3             70\n"
          ]
        }
      ],
      "source": [
        "print(\"\\nIterating over groups:\")\n",
        "for name, group in grouped:\n",
        "    print(f\"\\nGroup name: {name}\")\n",
        "    print(group)"
      ]
    },
    {
      "cell_type": "code",
      "source": [],
      "metadata": {
        "id": "WiIwG7DE5J6C"
      },
      "execution_count": null,
      "outputs": []
    }
  ],
  "metadata": {
    "kernelspec": {
      "display_name": "Python 3",
      "name": "python3"
    },
    "language_info": {
      "name": "python"
    },
    "colab": {
      "provenance": []
    }
  },
  "nbformat": 4,
  "nbformat_minor": 0
}